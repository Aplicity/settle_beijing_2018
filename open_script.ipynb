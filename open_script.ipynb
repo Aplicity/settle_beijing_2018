{
 "cells": [
  {
   "cell_type": "code",
   "execution_count": 6,
   "metadata": {},
   "outputs": [],
   "source": [
    "import pandas as pd\n",
    "import numpy as np\n",
    "import re\n",
    "from pyecharts import Pie,Line,Bar,Geo, Map, WordCloud\n",
    "import hashlib\n",
    "import matplotlib.pyplot as plt\n",
    "import matplotlib\n",
    "import jieba\n",
    "from collections import Counter"
   ]
  },
  {
   "cell_type": "markdown",
   "metadata": {},
   "source": [
    "## 读取北京市积分落户公示名单"
   ]
  },
  {
   "cell_type": "code",
   "execution_count": 7,
   "metadata": {},
   "outputs": [],
   "source": [
    "df = pd.read_excel(\"bjjflu20181015.xlsx\", encoding = 'gbk' )"
   ]
  },
  {
   "cell_type": "markdown",
   "metadata": {},
   "source": [
    "## 从中国统计年鉴读取各省（不含港澳台）的人口数据"
   ]
  },
  {
   "cell_type": "code",
   "execution_count": 8,
   "metadata": {},
   "outputs": [],
   "source": [
    "with open('中国统计年鉴_分省年度人口数据.csv', encoding = 'gbk') as fr:\n",
    "    province_population = dict()\n",
    "    for i,line in enumerate(fr.readlines()):\n",
    "        if i > 3 and i < 35:\n",
    "            lineArr = line.strip().split(',')\n",
    "            province = lineArr[0]\n",
    "            population = int(lineArr[1])\n",
    "            province_population[province] = population\n",
    "                        \n",
    "## 增加港澳台地区人口数据，单位：万；来源：百度百科\n",
    "### 香港 ： 741\n",
    "### 澳门 ： 66\n",
    "### 台湾 ： 2349\n",
    "province_population[\"香港特别行政区\"] = 741\n",
    "province_population[\"澳门特别行政区\"] = 66\n",
    "province_population[\"台湾省\"] = 2349\n",
    "\n",
    "city_df = pd.DataFrame({\"省份\": list(province_population.keys()),\n",
    "                       \"省份人口\" : list(province_population.values())})"
   ]
  },
  {
   "cell_type": "markdown",
   "metadata": {},
   "source": [
    "## 解码完整的身份证号码"
   ]
  },
  {
   "cell_type": "code",
   "execution_count": 29,
   "metadata": {},
   "outputs": [],
   "source": [
    "### 涉及隐私，此部分跳过\n"
   ]
  },
  {
   "cell_type": "markdown",
   "metadata": {},
   "source": [
    "## 根据身份证号码计算出出生年份、2019年年龄、性别信息、行政代码\n"
   ]
  },
  {
   "cell_type": "code",
   "execution_count": 10,
   "metadata": {},
   "outputs": [],
   "source": [
    "def cal_age(date):\n",
    "    year =  int(str(date)[:4])\n",
    "    age = 2019 - year\n",
    "    return age\n",
    "\n",
    "def marry_area_id(Id):\n",
    "    return Id[:6]\n",
    "\n",
    "def marry_gender(Id):\n",
    "    try:\n",
    "        digit = int(Id[-2])\n",
    "        if digit % 2 == 0:\n",
    "            return '女'\n",
    "        if digit % 2 == 1:\n",
    "            return '男'\n",
    "    except:\n",
    "        return \"未知\"\n",
    "    \n",
    "    \n",
    "df['行政代码'] = df['idCard'].apply(marry_area_id)\n",
    "df['年龄'] = df['出生年月'].apply(cal_age)\n",
    "df['性别'] = df['完整身份证号码'].apply(marry_gender)"
   ]
  },
  {
   "cell_type": "markdown",
   "metadata": {},
   "source": [
    "## 匹配户籍省份信息"
   ]
  },
  {
   "cell_type": "code",
   "execution_count": 11,
   "metadata": {},
   "outputs": [],
   "source": [
    "#df = pd.merge(df, city_df, how = 'left', on ='行政代码' )\n",
    "id2province = {'11': '北京市',\n",
    "              '12': '天津市',\n",
    "              '13': '河北省',\n",
    "              '14': '山西省',\n",
    "              '15': '内蒙古自治区',\n",
    "              '21': '辽宁省',\n",
    "              '22': '吉林省',\n",
    "              '23': '黑龙江省',\n",
    "              '31': '上海市',\n",
    "              '32': '江苏省',\n",
    "              '33': '浙江省',\n",
    "              '34': '安徽省',\n",
    "              '35': '福建省',\n",
    "              '36': '江西省',\n",
    "              '37': '山东省',\n",
    "              '41': '河南省',\n",
    "              '42': '湖北省',\n",
    "              '43': '湖南省',\n",
    "              '44': '广东省',\n",
    "              '45': '广西壮族自治区',\n",
    "              '46': '海南省',\n",
    "              '51': '四川省',\n",
    "              '52': '贵州省',\n",
    "              '53': '云南省',\n",
    "              '54': '西藏自治区',\n",
    "              '50': '重庆市',\n",
    "              '61': '陕西省',\n",
    "              '62': '甘肃省',\n",
    "              '63': '青海省',\n",
    "              '64': '宁夏回族自治区',\n",
    "              '65': '新疆维吾尔自治区',\n",
    "              '83': '台湾地区',\n",
    "              '81': '香港特别行政区',\n",
    "              '82': '澳门特别行政区'}\n",
    "\n",
    "def marry_province(ID):\n",
    "    return id2province[ID[:2]]\n",
    "\n",
    "df['原户籍省份'] = df['idCard'].apply(marry_province)"
   ]
  },
  {
   "cell_type": "markdown",
   "metadata": {},
   "source": [
    "## 开始分析"
   ]
  },
  {
   "cell_type": "code",
   "execution_count": 12,
   "metadata": {},
   "outputs": [],
   "source": [
    "df.columns = ['id', 'idCard', 'idCardSHA', 'insertTime', 'integralQualified',\n",
    "       'internetAnnual', 'md5Code', '姓名', 'pxid', '排名', '稳定就业',\n",
    "       '稳定住所', '教育背景', '职工区域', '创新创业', '纳税', '年龄得分', '荣誉表彰',\n",
    "       's9', '扣分', '总得分', '就业单位', '出生年月', '完整身份证号码', '行政代码', '年龄', '性别',\n",
    "       '原户籍省份']\n",
    "\n",
    "features =  [ '姓名',  '排名', '稳定就业','稳定住所', '教育背景', '职工区域', '创新创业', '纳税', '年龄得分', '荣誉表彰',\n",
    "        '扣分', '总得分', '就业单位', '出生年月', '完整身份证号码', '行政代码', '年龄', '性别', '原户籍省份']\n",
    "\n",
    "df = df[features]\n",
    "\n",
    "df.iloc[3796,0] = '杨守龙'\n",
    "\n",
    "df.to_csv('result.csv', index = None, encoding = 'gbk')"
   ]
  },
  {
   "cell_type": "markdown",
   "metadata": {},
   "source": [
    "### 3.1 年龄分布"
   ]
  },
  {
   "cell_type": "code",
   "execution_count": 13,
   "metadata": {},
   "outputs": [
    {
     "data": {
      "image/png": "[encoded data removed]",
      "text/plain": [
       "<matplotlib.figure.Figure at 0x11392aeb8>"
      ]
     },
     "metadata": {},
     "output_type": "display_data"
    }
   ],
   "source": [
    "myfont = matplotlib.font_manager.FontProperties(fname='/Library/Fonts/Songti.ttc')\n",
    "plt.style.use('ggplot')\n",
    "df['年龄'].hist( bins = 15, color = 'steelblue', edgecolor = 'k', alpha = 0.7)\n",
    "plt.xlabel('年龄', FontProperties = myfont , fontsize = 15 )\n",
    "plt.savefig('年龄分布图', dpi = 500, bbox_inches = 'tight')\n",
    "plt.show()"
   ]
  },
  {
   "cell_type": "markdown",
   "metadata": {},
   "source": [
    "### 3.2  教育背景分布"
   ]
  },
  {
   "cell_type": "code",
   "execution_count": 14,
   "metadata": {},
   "outputs": [],
   "source": [
    "def label_educational(score):\n",
    "    if score == 0 :\n",
    "        return \"大专以下\"\n",
    "    elif score == 10.5:\n",
    "        return \"大专\"\n",
    "    elif score == 15:\n",
    "        return \"本科\"\n",
    "    elif score == 26:\n",
    "        return \"硕士\"\n",
    "    elif score == 37:\n",
    "        return \"博士\"\n",
    "    else:\n",
    "        return \"其他\"\n",
    "df['label_学历水平'] = df['教育背景'].apply(label_educational)\n",
    "\n",
    "pie = Pie(\"\", width = 800, height = 600)\n",
    "pie.add(\"学历分布\", \n",
    "       df.groupby(['label_学历水平'])['姓名'].count().index,\n",
    "       df.groupby(['label_学历水平'])['姓名'].count(),\n",
    "       is_label_show = True,\n",
    "        legend_orient = 'vertical',\n",
    "        legend_pos = 'left')\n",
    "pie.render(\"学历水平.html\")\n"
   ]
  },
  {
   "cell_type": "markdown",
   "metadata": {},
   "source": [
    "### 3.3  荣誉表彰"
   ]
  },
  {
   "cell_type": "code",
   "execution_count": 15,
   "metadata": {},
   "outputs": [],
   "source": [
    "pie = Pie()\n",
    "pie.add(\"荣誉表彰得分\", \n",
    "       df.groupby(['荣誉表彰'])['姓名'].count().index,\n",
    "       df.groupby(['荣誉表彰'])['姓名'].count(),\n",
    "       is_label_show = True,\n",
    "        legend_orient = 'vertical',\n",
    "        legend_text_size = 20,\n",
    "       label_text_size = 20)\n",
    "pie.render('荣誉表彰比例.html')\n"
   ]
  },
  {
   "cell_type": "markdown",
   "metadata": {},
   "source": [
    "### 3.4 创新创业"
   ]
  },
  {
   "cell_type": "code",
   "execution_count": 16,
   "metadata": {},
   "outputs": [],
   "source": [
    "pie = Pie(width = 900, height = 800)\n",
    "pie.add(\"创新创业\", \n",
    "       df.groupby(['创新创业'])['姓名'].count().index,\n",
    "       df.groupby(['创新创业'])['姓名'].count(),\n",
    "       is_label_show = True,\n",
    "        legend_orient = 'vertical',\n",
    "       legend_pos = 'left',\n",
    "        legend_text_size = 20,\n",
    "       label_text_size = 20)\n",
    "pie.render('创新创业比例.html')"
   ]
  },
  {
   "cell_type": "markdown",
   "metadata": {},
   "source": [
    "### 3.5 性别\n"
   ]
  },
  {
   "cell_type": "code",
   "execution_count": 17,
   "metadata": {},
   "outputs": [],
   "source": [
    "pie = Pie()\n",
    "pie.add(\"性别\", \n",
    "       df.groupby(['性别'])['姓名'].count().index,\n",
    "       df.groupby(['性别'])['姓名'].count(),\n",
    "       is_label_show = True,)\n",
    "pie.render(\"性别分布.html\")"
   ]
  },
  {
   "cell_type": "markdown",
   "metadata": {},
   "source": [
    "### 3.6 原户籍"
   ]
  },
  {
   "cell_type": "code",
   "execution_count": 18,
   "metadata": {},
   "outputs": [],
   "source": [
    "## 落户规模 -- map\n",
    "def marry_province(province):\n",
    "    if \"黑龙江\" in province or \"内蒙古\" in province:\n",
    "        return province[:3]\n",
    "    else:\n",
    "        return province[:2]\n",
    "df['原户籍省份'] = df['原户籍省份'].apply(marry_province)\n",
    "\n",
    "map_ = Map(\"\", width=1200, height=800)\n",
    "province_dict = {}\n",
    "for province in df['原户籍省份'].value_counts().keys():\n",
    "    province_dict[province] = df['原户籍省份'].value_counts()[province]\n",
    "\n",
    "attr, value = map_.cast(province_dict)\n",
    "map_.add(\"原户籍分布\", attr, value, visual_range = [0, 1000],\n",
    "        maptype = 'china',\n",
    "        symbol_size = 10, \n",
    "        is_visualmap = True)    \n",
    "\n",
    "map_.render(\"各省落户规模_map.html\")"
   ]
  },
  {
   "cell_type": "code",
   "execution_count": 19,
   "metadata": {},
   "outputs": [],
   "source": [
    "## 落户规模 -- bar\n",
    "bar = Bar(width=1200, height=600 )\n",
    "attr = df['原户籍省份'].value_counts().keys()\n",
    "value = df['原户籍省份'].value_counts()\n",
    "\n",
    "bar.add(\"原户籍分布\", attr, value, visual_range = [0, 1000],\n",
    "        symbol_size = 10, \n",
    "        is_visualmap = True,\n",
    "       xaxis_rotate = 50)    \n",
    "bar.render(\"各省落户规模_bar.html\")"
   ]
  },
  {
   "cell_type": "code",
   "execution_count": 20,
   "metadata": {},
   "outputs": [],
   "source": [
    "city_df['省份'] = city_df['省份'].apply(marry_province)\n",
    "features = ['省份', '省份人口']\n",
    "city_df = city_df[features]\n",
    "city_df = city_df.drop_duplicates() # 每个省份的人口\n",
    "\n",
    "result = df.groupby(['原户籍省份'])['姓名'].count().to_frame() # 每个省份的落户北京的人口\n",
    "result['省份'] = result.index\n",
    "\n",
    "result = pd.merge(result, city_df, on = '省份', how = 'outer')\n",
    "result = result.dropna()  ## 去重台湾/香港没落户的\n",
    "\n",
    "result['落户北京概率'] = result['姓名'] / result['省份人口'] * 10\n",
    "\n",
    "result = result.sort_values(by = ['落户北京概率'], ascending = False )"
   ]
  },
  {
   "cell_type": "code",
   "execution_count": 21,
   "metadata": {},
   "outputs": [],
   "source": [
    "## 概率图 -- map\n",
    "map_ = Map(\"\", width=1200, height=800)\n",
    "attr = result['省份']\n",
    "value = result['落户北京概率']\n",
    "\n",
    "map_.add(\"原户籍分布\", attr, value, visual_range = [0, 2],\n",
    "        maptype = 'china',\n",
    "        symbol_size = 10, \n",
    "        is_visualmap = True)    \n",
    "\n",
    "map_.render('各省落户北京概率_map.html')"
   ]
  },
  {
   "cell_type": "code",
   "execution_count": 22,
   "metadata": {},
   "outputs": [],
   "source": [
    "## 概率图 -- bar\n",
    "bar = Bar(width=1200, height=600 )\n",
    "attr = result['省份']\n",
    "value = result['落户北京概率']\n",
    "\n",
    "bar.add(\"各省落户北京概率\", attr, value,\n",
    "        visual_range = [0, 2],\n",
    "        symbol_size = 10, \n",
    "        is_visualmap = True,\n",
    "       xaxis_rotate = 50)    \n",
    "\n",
    "bar.render('各省落户北京概率_bar.html')"
   ]
  },
  {
   "cell_type": "markdown",
   "metadata": {},
   "source": [
    "### 3.7 就业单位"
   ]
  },
  {
   "cell_type": "code",
   "execution_count": 23,
   "metadata": {},
   "outputs": [],
   "source": [
    "attr = df['就业单位'].value_counts().keys()[:20]\n",
    "value = df['就业单位'].value_counts()[:20]\n",
    "\n",
    "bar = Bar(width=2500, height=600 )\n",
    "bar.add(\"就业单位（前20名）\", attr, value,\n",
    "       is_convert = True )   \n",
    "\n",
    "bar.render('就业单位前20名.html')"
   ]
  },
  {
   "cell_type": "code",
   "execution_count": 24,
   "metadata": {},
   "outputs": [
    {
     "data": {
      "image/png": "[encoded data removed]",
      "text/plain": [
       "<matplotlib.figure.Figure at 0x112ec38d0>"
      ]
     },
     "metadata": {},
     "output_type": "display_data"
    }
   ],
   "source": [
    "attr = df['就业单位'].value_counts().keys()[:25]\n",
    "value = df['就业单位'].value_counts()[:25]\n",
    "myfont = matplotlib.font_manager.FontProperties(fname='/Library/Fonts/Songti.ttc')\n",
    "\n",
    "plt.figure()\n",
    "plt.barh(range(25), value, \n",
    "        align = 'center')\n",
    "\n",
    "plt.xlabel('人数', FontProperties = myfont)\n",
    "plt.yticks(range(25),attr , FontProperties = myfont , fontsize = 6)\n",
    "\n",
    "for x,y in enumerate(value):\n",
    "    plt.text( y + 0.1, x,'%s' %y,va='center', fontsize = 6 )\n",
    "plt.savefig('就业单位', dpi = 800, bbox_inches = 'tight' )    \n",
    "plt.show()"
   ]
  },
  {
   "cell_type": "code",
   "execution_count": 25,
   "metadata": {},
   "outputs": [
    {
     "name": "stderr",
     "output_type": "stream",
     "text": [
      "Building prefix dict from the default dictionary ...\n",
      "DEBUG:jieba:Building prefix dict from the default dictionary ...\n",
      "Dumping model to file cache /var/folders/5v/43zb1wt95qx954nbz6z9tx4m0000gn/T/jieba.cache\n",
      "DEBUG:jieba:Dumping model to file cache /var/folders/5v/43zb1wt95qx954nbz6z9tx4m0000gn/T/jieba.cache\n",
      "Loading model cost 1.156 seconds.\n",
      "DEBUG:jieba:Loading model cost 1.156 seconds.\n",
      "Prefix dict has been built succesfully.\n",
      "DEBUG:jieba:Prefix dict has been built succesfully.\n"
     ]
    }
   ],
   "source": [
    "## 词云图\n",
    "text = df['就业单位'].sum()\n",
    "word_generator = jieba.cut(text)\n",
    "stop_words = ['中国', \"北京\", \"(\", \")\" , \"集团\", \"有限\" , \"公司\" , '（',  '）', \"有限公司\", '股份',\n",
    "             '分公司','有限责任','北京市' , \"北京\" ]\n",
    "words = []\n",
    "for word in word_generator:\n",
    "    if word not in stop_words:\n",
    "        words.append(word)\n",
    "    \n",
    "word_dict = Counter(words)\n",
    "\n",
    "count_list = sorted(word_dict.items(), key=lambda x:x[1],reverse=True)\n",
    "keyword_list = [k[0] for k in count_list][:300]\n",
    "value_list = [k[1] for k in count_list][:300]\n",
    "\n",
    "wordcloud = WordCloud(width = 1200,height = 900)\n",
    "wordcloud.add('',\n",
    "              keyword_list,\n",
    "              value_list,\n",
    "              word_size_range=[20,100])\n",
    "wordcloud.render('企业名次词云图.html')\n"
   ]
  },
  {
   "cell_type": "code",
   "execution_count": 26,
   "metadata": {},
   "outputs": [],
   "source": [
    "## 企业类型\n",
    "attr = [\"国企/机关/央企/\\n大学/研究所\", \"民营私企\", \"外资企业\"]\n",
    "value  = [0.2642, 0.4328,  0.303]\n",
    "pie = Pie(\"企业类型\", width = 1000 , height = 800)\n",
    "pie.add(\"\", \n",
    "       attr, value, \n",
    "       is_label_show = True,\n",
    "        legend_text_size = 20,\n",
    "       label_text_size = 20)\n",
    "pie.render('企业类型.html')"
   ]
  },
  {
   "cell_type": "code",
   "execution_count": 27,
   "metadata": {},
   "outputs": [],
   "source": [
    "## 500强企业占比\n",
    "attr = [\"500强\", \"非500强\"]\n",
    "value  = [0.72, 0.235]\n",
    "\n",
    "pie = Pie(\"500强企业占比(剔除国企机关)\", width = 800 , height = 600)\n",
    "pie.add(\"\", \n",
    "       attr, value, \n",
    "        radius = (40,75),\n",
    "       is_label_show = True,\n",
    "       legend_text_size = 20,\n",
    "       label_text_size = 20)\n",
    "pie.render('500强企业占比.html')"
   ]
  },
  {
   "cell_type": "markdown",
   "metadata": {},
   "source": [
    "### 3.8 最终得分分布"
   ]
  },
  {
   "cell_type": "code",
   "execution_count": 28,
   "metadata": {},
   "outputs": [
    {
     "data": {
      "image/png": "[encoded data removed]",
      "text/plain": [
       "<matplotlib.figure.Figure at 0x113001f98>"
      ]
     },
     "metadata": {},
     "output_type": "display_data"
    }
   ],
   "source": [
    "myfont = matplotlib.font_manager.FontProperties(fname='/Library/Fonts/Songti.ttc')\n",
    "\n",
    "df['总得分'].hist()\n",
    "plt.xlabel('分数', FontProperties = myfont  )\n",
    "plt.savefig('分数分布', bbox_inches = 'tight', dpi = 500)\n",
    "plt.show()"
   ]
  },
  {
   "cell_type": "code",
   "execution_count": null,
   "metadata": {},
   "outputs": [],
   "source": []
  },
  {
   "cell_type": "code",
   "execution_count": null,
   "metadata": {},
   "outputs": [],
   "source": []
  },
  {
   "cell_type": "code",
   "execution_count": null,
   "metadata": {},
   "outputs": [],
   "source": []
  },
  {
   "cell_type": "code",
   "execution_count": null,
   "metadata": {},
   "outputs": [],
   "source": []
  }
 ],
 "metadata": {
  "kernelspec": {
   "display_name": "Python 3",
   "language": "python",
   "name": "python3"
  },
  "language_info": {
   "codemirror_mode": {
    "name": "ipython",
    "version": 3
   },
   "file_extension": ".py",
   "mimetype": "text/x-python",
   "name": "python",
   "nbconvert_exporter": "python",
   "pygments_lexer": "ipython3",
   "version": "3.6.4"
  }
 },
 "nbformat": 4,
 "nbformat_minor": 2
}
